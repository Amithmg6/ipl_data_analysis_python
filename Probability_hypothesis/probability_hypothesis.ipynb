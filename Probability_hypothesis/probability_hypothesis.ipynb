{
 "cells": [
  {
   "attachments": {},
   "cell_type": "markdown",
   "metadata": {},
   "source": [
    "# PROBABILITY & HYPOTHESIS PRACTICE"
   ]
  },
  {
   "cell_type": "markdown",
   "metadata": {},
   "source": [
    "### The probability distributions are practised by hand. This workbook has the practice performed using python. The distributions are brodly classified into discrete and continuous probability distributions. \n",
    "\n",
    "### After studying each distribution i have solved few questions to explore the options using scipy package.\n",
    "\n",
    "### I thank the authors of various books read by me to reach this level of clarity in the topics below."
   ]
  },
  {
   "attachments": {},
   "cell_type": "markdown",
   "metadata": {},
   "source": [
    "# Binomial Distribution"
   ]
  },
  {
   "cell_type": "markdown",
   "metadata": {},
   "source": [
    "An unbiased coin is tossed 5 times. Find the probability that the tosses result in\n",
    "1. All heads\n",
    "2. 3 heads"
   ]
  },
  {
   "cell_type": "code",
   "execution_count": 19,
   "metadata": {},
   "outputs": [],
   "source": [
    "# Load the stats from scipy package\n",
    "from scipy.stats import bernoulli, binom, poisson, expon\n",
    "import matplotlib.pyplot as plt\n",
    "import numpy as np\n",
    "import ipywidgets as widgets\n",
    "import pandas as pd\n",
    "import seaborn as sn\n",
    "from IPython.core.display import Image, display"
   ]
  },
  {
   "cell_type": "markdown",
   "metadata": {},
   "source": [
    "From the statement its clear that:\n",
    "a. n parameter is 5\n",
    "b. p parameter is 1/2 (symmetrical binomial dist.)\n",
    "\n",
    "The p.m.f (probability mass function) using python."
   ]
  },
  {
   "cell_type": "code",
   "execution_count": 5,
   "metadata": {},
   "outputs": [
    {
     "name": "stdout",
     "output_type": "stream",
     "text": [
      "all_heads =  3.125 %\n"
     ]
    }
   ],
   "source": [
    "all_heads=binom.pmf(5,5,0.5)\n",
    "print(\"all_heads = \",all_heads*100,\"%\")"
   ]
  },
  {
   "cell_type": "code",
   "execution_count": 7,
   "metadata": {},
   "outputs": [
    {
     "name": "stdout",
     "output_type": "stream",
     "text": [
      "three_heads =  31.25 %\n"
     ]
    }
   ],
   "source": [
    "three_heads=binom.pmf(3,5,0.5)\n",
    "print(\"three_heads = \",three_heads*100,\"%\")"
   ]
  },
  {
   "cell_type": "code",
   "execution_count": 8,
   "metadata": {},
   "outputs": [
    {
     "name": "stdout",
     "output_type": "stream",
     "text": [
      "four_heads =  16.0 %\n"
     ]
    }
   ],
   "source": [
    "four_heads=binom.pmf(4,5,0.5)\n",
    "print(\"four_heads = \",round(four_heads*100),\"%\")"
   ]
  },
  {
   "cell_type": "markdown",
   "metadata": {},
   "source": [
    "## Vizulaizing how pmf varies with number of trails.\n",
    "Say a 20 customers have bought apparels from e commerce website.\n",
    "10% will return the apparel then what is the probability of 5 people will return:"
   ]
  },
  {
   "cell_type": "markdown",
   "metadata": {},
   "source": [
    "### The probability of 5 people will return"
   ]
  },
  {
   "cell_type": "code",
   "execution_count": 9,
   "metadata": {},
   "outputs": [
    {
     "name": "stdout",
     "output_type": "stream",
     "text": [
      "The probability of 5 people will return =  3.19 %\n"
     ]
    }
   ],
   "source": [
    "print(\"The probability of 5 people will return = \",round(binom.pmf(5,20,0.1)*100,2),\"%\") # expected trails = 5 , total trails = 20, 10%\n"
   ]
  },
  {
   "cell_type": "code",
   "execution_count": 10,
   "metadata": {},
   "outputs": [
    {
     "data": {
      "image/png": "[encoded data removed]",
      "text/plain": [
       "<Figure size 432x288 with 1 Axes>"
      ]
     },
     "metadata": {
      "needs_background": "light"
     },
     "output_type": "display_data"
    }
   ],
   "source": [
    "pmf_df=pd.DataFrame({'Success': range(0,21), 'pmf':list(binom.pmf(range(0,21),20,0.1))})\n",
    "\n",
    "# creating the barplot with number of calls as x and pmf as y\n",
    "sn.barplot(x=pmf_df.Success, y=pmf_df.pmf);\n",
    "plt.title('Binomial Distribution Plot')\n",
    "plt.xlabel('Number of calls Received');"
   ]
  },
  {
   "cell_type": "markdown",
   "metadata": {},
   "source": [
    "Let us see out of 20 customers how the PMF will vary?"
   ]
  },
  {
   "cell_type": "code",
   "execution_count": 11,
   "metadata": {},
   "outputs": [
    {
     "data": {
      "application/vnd.jupyter.widget-view+json": {
       "model_id": "45463af78cfa4c3f9c2481928c25a2d9",
       "version_major": 2,
       "version_minor": 0
      },
      "text/plain": [
       "interactive(children=(IntSlider(value=10, description='n', max=20), FloatSlider(value=0.05, description='p', m…"
      ]
     },
     "metadata": {},
     "output_type": "display_data"
    }
   ],
   "source": [
    "@widgets.interact(n=(0,20),p=(0.0,0.1),samples=(1,100), continuous_update=False)\n",
    "def plot_pmf(n, p,samples=100,histogram=False):\n",
    "    '''\n",
    "    Plot the probability mass function of Binom(n, p)\n",
    "    '''\n",
    "    k = np.arange(0, n + 1)\n",
    "    P_binom = binom.pmf(k, n, p)\n",
    "    # This plots a bar plot\n",
    "    # plt.bar(k, P_binom,color='b')\n",
    "    plt.plot(k, P_binom, '-o', color='r')\n",
    "    if histogram:\n",
    "        height,y = np.histogram(binom.rvs(size=samples,n=n,p=p),range=(0,n),bins=n+1,normed=True)\n",
    "        plt.bar(k,height,color='r')\n",
    "    plt.title('PMF of Bin(%i, %.2f)' % (n, p))\n",
    "    plt.xlabel('k')\n",
    "    plt.ylabel('$B_{20,0.3}(k)$')\n",
    "    plt.show()"
   ]
  },
  {
   "cell_type": "markdown",
   "metadata": {},
   "source": [
    "### Probability that maximum of 5 people will return can be found via CDF"
   ]
  },
  {
   "cell_type": "code",
   "execution_count": 12,
   "metadata": {},
   "outputs": [
    {
     "name": "stdout",
     "output_type": "stream",
     "text": [
      "The probability that maximum of 5 people will return =  98.87 %\n"
     ]
    }
   ],
   "source": [
    "print(\"The probability that maximum of 5 people will return = \",round(binom.cdf(5,20,0.1)*100,2),\"%\")"
   ]
  },
  {
   "cell_type": "markdown",
   "metadata": {},
   "source": [
    "### Probability that more than 5 people will return can be found 1-q"
   ]
  },
  {
   "cell_type": "code",
   "execution_count": 13,
   "metadata": {},
   "outputs": [
    {
     "name": "stdout",
     "output_type": "stream",
     "text": [
      "The probability that more than 5 people will return =  1.13 %\n"
     ]
    }
   ],
   "source": [
    "print(\"The probability that more than 5 people will return = \",round((1-binom.cdf(5,20,0.1))*100,2),\"%\")"
   ]
  },
  {
   "cell_type": "markdown",
   "metadata": {},
   "source": [
    "### Average number of customer likely to \"return\" the items, the variance and SD of the returned items."
   ]
  },
  {
   "cell_type": "code",
   "execution_count": 14,
   "metadata": {},
   "outputs": [],
   "source": [
    "mean, variance = binom.stats(20, 0.1)"
   ]
  },
  {
   "cell_type": "code",
   "execution_count": 15,
   "metadata": {},
   "outputs": [
    {
     "name": "stdout",
     "output_type": "stream",
     "text": [
      "Average:  2.0 | Variance:  1.8 | SD:  1.34\n"
     ]
    }
   ],
   "source": [
    "print(\"Average: \",mean,\"| Variance: \",variance,\"| SD: \",round(np.sqrt(variance),2))"
   ]
  },
  {
   "cell_type": "markdown",
   "metadata": {},
   "source": [
    "# Poission distribution"
   ]
  },
  {
   "cell_type": "markdown",
   "metadata": {},
   "source": [
    "The number of call to a call center follows a poission distribution at 10 call per hour.\n",
    "1. calculate the probabillity that the number of call will be maximum 5\n",
    "2. calculate the probabillity that the number of call over a 3 hour period will exceed 30"
   ]
  },
  {
   "cell_type": "code",
   "execution_count": 16,
   "metadata": {},
   "outputs": [
    {
     "data": {
      "text/plain": [
       "0.06708596287903189"
      ]
     },
     "execution_count": 16,
     "metadata": {},
     "output_type": "execute_result"
    }
   ],
   "source": [
    "poisson.cdf(5,10)"
   ]
  },
  {
   "cell_type": "code",
   "execution_count": 17,
   "metadata": {},
   "outputs": [
    {
     "name": "stdout",
     "output_type": "stream",
     "text": [
      "The probability is:  0.45\n"
     ]
    }
   ],
   "source": [
    "print(\"The probability is: \",round(1-poisson.cdf(30,30),2))"
   ]
  },
  {
   "cell_type": "markdown",
   "metadata": {},
   "source": [
    "To see the poisson distribution for the average call per hour as 10,\n",
    "we can plot PMF for all the possible number of calls, \n",
    "the call center can receive ranging from 0 to 30."
   ]
  },
  {
   "cell_type": "code",
   "execution_count": 18,
   "metadata": {},
   "outputs": [
    {
     "data": {
      "image/png": "[encoded data removed]",
      "text/plain": [
       "<Figure size 432x288 with 1 Axes>"
      ]
     },
     "metadata": {
      "needs_background": "light"
     },
     "output_type": "display_data"
    }
   ],
   "source": [
    "pmf_df=pd.DataFrame({'Success': range(0,30), 'pmf':list(poisson.pmf(range(0,30),10))})\n",
    "\n",
    "# creating the barplot with number of calls as x and pmf as y\n",
    "sn.barplot(x=pmf_df.Success, y=pmf_df.pmf);\n",
    "plt.title('Poisson Distribution')\n",
    "plt.xlabel('Number of calls Received');"
   ]
  },
  {
   "cell_type": "code",
   "execution_count": null,
   "metadata": {},
   "outputs": [],
   "source": []
  },
  {
   "attachments": {},
   "cell_type": "markdown",
   "metadata": {},
   "source": [
    "# Exponential distribution"
   ]
  },
  {
   "cell_type": "markdown",
   "metadata": {},
   "source": [
    "The distribution is a single parameter continuous ditribution that is traditionally used for modeling time to failure of electronic components. The exponential dist. represents a process in which events occur continuously and independently at a constant average rate."
   ]
  },
  {
   "cell_type": "markdown",
   "metadata": {},
   "source": [
    "The time to failure of an avionic system follows an exponential distribution with a mean time between failures (MTBF) of 1000 hours. \n",
    "\n",
    "1. The prob that the system will fail before 1000 hours\n",
    "2. The prob the it will fail upto 2000 hours\n",
    "3. The time by which 10% of the system will fail. (P10 life)\n"
   ]
  },
  {
   "cell_type": "markdown",
   "metadata": {},
   "source": [
    "the below function takes the number of hours, mean and scale of the expo dist."
   ]
  },
  {
   "cell_type": "code",
   "execution_count": 22,
   "metadata": {},
   "outputs": [
    {
     "name": "stdout",
     "output_type": "stream",
     "text": [
      "The probability value is: 0.6321201909489326\n"
     ]
    }
   ],
   "source": [
    "print(\"The probability value is:\",expon.cdf(1000, loc=1/1000, scale=1000))"
   ]
  },
  {
   "cell_type": "code",
   "execution_count": 23,
   "metadata": {},
   "outputs": [
    {
     "name": "stdout",
     "output_type": "stream",
     "text": [
      "The probability value for NOT FAIL upto 2000 is: 0.13533541857196352\n"
     ]
    }
   ],
   "source": [
    "print(\"The probability value for NOT FAIL upto 2000 is:\",1-expon.cdf(2000, loc=1/1000, scale=1000))"
   ]
  },
  {
   "cell_type": "code",
   "execution_count": 26,
   "metadata": {},
   "outputs": [
    {
     "name": "stdout",
     "output_type": "stream",
     "text": [
      "The time by which 10% will fail is: 105.36151565782632  hours, 10% system will fail.\n"
     ]
    }
   ],
   "source": [
    "print(\"The time by which 10% will fail is:\",expon.ppf(0.1, loc=1/1000, scale=1000),\" hours, 10% system will fail.\")"
   ]
  },
  {
   "cell_type": "code",
   "execution_count": 30,
   "metadata": {},
   "outputs": [
    {
     "data": {
      "image/png": "[encoded data removed]",
      "text/plain": [
       "<Figure size 720x360 with 1 Axes>"
      ]
     },
     "metadata": {
      "needs_background": "light"
     },
     "output_type": "display_data"
    }
   ],
   "source": [
    "pdf_df=pd.DataFrame({'Success': range(0,5000, 100), 'pdf':list(expon.pdf(range(0,5000,100),loc=1/1000, scale=1000))})\n",
    "\n",
    "# creating the barplot with number of calls as x and pmf as y\n",
    "plt.figure(figsize=(10,5))\n",
    "sn.barplot(x=pdf_df.Success, y=pdf_df.pdf);\n",
    "plt.title('Exponential Distribution');\n",
    "plt.xticks(rotation=90);\n",
    "plt.xlabel('Time to failure');"
   ]
  },
  {
   "cell_type": "code",
   "execution_count": null,
   "metadata": {},
   "outputs": [],
   "source": []
  }
 ],
 "metadata": {
  "kernelspec": {
   "display_name": "Python 3",
   "language": "python",
   "name": "python3"
  },
  "language_info": {
   "codemirror_mode": {
    "name": "ipython",
    "version": 3
   },
   "file_extension": ".py",
   "mimetype": "text/x-python",
   "name": "python",
   "nbconvert_exporter": "python",
   "pygments_lexer": "ipython3",
   "version": "3.7.7"
  }
 },
 "nbformat": 4,
 "nbformat_minor": 4
}
